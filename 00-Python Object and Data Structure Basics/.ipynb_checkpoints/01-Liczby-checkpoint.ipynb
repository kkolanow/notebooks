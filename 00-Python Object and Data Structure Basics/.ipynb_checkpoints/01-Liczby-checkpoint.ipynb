{
 "cells": [
  {
   "cell_type": "markdown",
   "metadata": {},
   "source": [
    "___\n",
    "\n",
    "<a href='bluesoft.com'>Bluesoft</a>\n",
    "___\n",
    "<center><em>Liczby</em></center>"
   ]
  },
  {
   "cell_type": "markdown",
   "metadata": {},
   "source": [
    "# Liczby w Python!\n",
    "\n",
    "W tym wykładzie, poznamy typy liczbowe Pythona i dowiemy się jak ich używać\n",
    "\n",
    "\n",
    "    1.) Typy zmiennych liczbowych w Python\n",
    "    2.) Podstawowa arytmetyka\n",
    "    3.) Różnice w dzieleniu dla zmiennych typów całkowitych a zmiennoprzecinkowych \n",
    "    4.) Przypisanie obiektów w Pythonie"
   ]
  },
  {
   "cell_type": "markdown",
   "metadata": {},
   "source": [
    "## Typy zmiennych liczbowych w Python\n",
    "\n",
    "\n",
    "Python posiada kilka wbudowanych typów dla przechowywania liczb. \n",
    "1. integer:  \n",
    "    - typ całkowity. Dodatni bądź ujemny. Na przykład: 2 i -2 są przykładowymi wartościami przechowywanymi w zmiennych typu integer.\n",
    "2. float (ang. floating point number):\n",
    "    - typ zmiennoprzecinkowy w Pythonie można zapisać na dwa sposoby: z kropką lub użyć potęgi (e), przykładowo:\n",
    "        - 2.0 i -2.1\n",
    "        - 4E2 (4*10^2) \n",
    "3. complex:\n",
    "    - typ complex służy do przedstawiania liczb zespolonych. Każda liczba tego typu składa się z części rzeczywistej z.real oraz urojonej z.imag\n",
    "\n",
    "\n",
    "\n",
    "\n",
    "\n",
    "\n",
    "\n",
    "\n"
   ]
  },
  {
   "cell_type": "markdown",
   "metadata": {},
   "source": [
    "<table>\n",
    "<tr>\n",
    "    <th>Przykładowe wartości</th> \n",
    "    <th>Typ</th>\n",
    "</tr>\n",
    "\n",
    "<tr>\n",
    "    <td>1,2,-5,1000</td>\n",
    "    <td>Integer</td> \n",
    "</tr>\n",
    "\n",
    "<tr>\n",
    "    <td>1.2,-0.5,2e2,3E2</td> \n",
    "    <td>Floating-point</td> \n",
    "</tr>\n",
    " </table>"
   ]
  },
  {
   "cell_type": "markdown",
   "metadata": {},
   "source": [
    " \n",
    "Teraz czas na podstawowe działania!"
   ]
  },
  {
   "cell_type": "markdown",
   "metadata": {},
   "source": [
    "### Działania Artymetyczne"
   ]
  },
  {
   "cell_type": "code",
   "execution_count": 2,
   "metadata": {},
   "outputs": [
    {
     "data": {
      "text/plain": [
       "3"
      ]
     },
     "execution_count": 2,
     "metadata": {},
     "output_type": "execute_result"
    }
   ],
   "source": [
    "# Dodawanie\n",
    "2+1"
   ]
  },
  {
   "cell_type": "code",
   "execution_count": 4,
   "metadata": {},
   "outputs": [
    {
     "data": {
      "text/plain": [
       "1"
      ]
     },
     "execution_count": 4,
     "metadata": {},
     "output_type": "execute_result"
    }
   ],
   "source": [
    "# Odejmowanie\n",
    "2-1"
   ]
  },
  {
   "cell_type": "code",
   "execution_count": 3,
   "metadata": {},
   "outputs": [
    {
     "data": {
      "text/plain": [
       "4"
      ]
     },
     "execution_count": 3,
     "metadata": {},
     "output_type": "execute_result"
    }
   ],
   "source": [
    "# Mnożenie\n",
    "2*2"
   ]
  },
  {
   "cell_type": "code",
   "execution_count": 4,
   "metadata": {},
   "outputs": [
    {
     "data": {
      "text/plain": [
       "1.5"
      ]
     },
     "execution_count": 4,
     "metadata": {},
     "output_type": "execute_result"
    }
   ],
   "source": [
    "# Dzielenie\n",
    "3/2"
   ]
  },
  {
   "cell_type": "code",
   "execution_count": 5,
   "metadata": {},
   "outputs": [
    {
     "data": {
      "text/plain": [
       "1"
      ]
     },
     "execution_count": 5,
     "metadata": {},
     "output_type": "execute_result"
    }
   ],
   "source": [
    "# Floor Division\n",
    "7//4"
   ]
  },
  {
   "cell_type": "markdown",
   "metadata": {},
   "source": [
    "**Co tu się stało? 7 dzielone na  4 daje 1.75 nie 1!**\n",
    "\n",
    "Powodem, dla którego otrzymujemy ten wynik, jest to, że używamy podziału \"*floor*\". Operator // (dwa ukośniki) obcina liczbę dziesiętną bez zaokrąglania i zwraca wynik w postaci liczby całkowitej."
   ]
  },
  {
   "cell_type": "markdown",
   "metadata": {},
   "source": [
    "**A co, jeśli chcemy tylko reszty po dzieleniu?**"
   ]
  },
  {
   "cell_type": "code",
   "execution_count": 6,
   "metadata": {},
   "outputs": [
    {
     "data": {
      "text/plain": [
       "3"
      ]
     },
     "execution_count": 6,
     "metadata": {},
     "output_type": "execute_result"
    }
   ],
   "source": [
    "# Modulo\n",
    "7%4"
   ]
  },
  {
   "cell_type": "markdown",
   "metadata": {},
   "source": [
    "4 zmieści się w 7 jeden raz, z resztą 3. Operator % zwraca resztę po dzieleniu."
   ]
  },
  {
   "cell_type": "markdown",
   "metadata": {},
   "source": [
    "### Pozostałe działania"
   ]
  },
  {
   "cell_type": "code",
   "execution_count": 7,
   "metadata": {},
   "outputs": [
    {
     "data": {
      "text/plain": [
       "8"
      ]
     },
     "execution_count": 7,
     "metadata": {},
     "output_type": "execute_result"
    }
   ],
   "source": [
    "# Potęgowanie\n",
    "2**3"
   ]
  },
  {
   "cell_type": "code",
   "execution_count": 8,
   "metadata": {},
   "outputs": [
    {
     "data": {
      "text/plain": [
       "2.0"
      ]
     },
     "execution_count": 8,
     "metadata": {},
     "output_type": "execute_result"
    }
   ],
   "source": [
    "# Pierwiastkowanie\n",
    "4**0.5"
   ]
  },
  {
   "cell_type": "code",
   "execution_count": 9,
   "metadata": {},
   "outputs": [
    {
     "data": {
      "text/plain": [
       "105"
      ]
     },
     "execution_count": 9,
     "metadata": {},
     "output_type": "execute_result"
    }
   ],
   "source": [
    "# Kolejność wykonywania działań w Python\n",
    "2 + 10 * 10 + 3"
   ]
  },
  {
   "cell_type": "code",
   "execution_count": 10,
   "metadata": {},
   "outputs": [
    {
     "data": {
      "text/plain": [
       "156"
      ]
     },
     "execution_count": 10,
     "metadata": {},
     "output_type": "execute_result"
    }
   ],
   "source": [
    "# W celu wymuszenia kolejności działań używamy nawiasów\n",
    "(2+10) * (10+3)"
   ]
  },
  {
   "cell_type": "markdown",
   "metadata": {},
   "source": [
    "## Przypisanie zmiennych\n",
    "\n",
    "Teraz, gdy widzieliśmy, jak używać liczb w Pythonie jako kalkulatora, zobaczmy, jak możemy przypisywać nazwy i tworzyć zmienne.\n",
    "\n",
    "Używamy pojedynczego znaku równości do przypisywania etykiet do zmiennych. Zobaczmy kilka przykładów, jak możemy to zrobić."
   ]
  },
  {
   "cell_type": "code",
   "execution_count": 11,
   "metadata": {
    "collapsed": true,
    "jupyter": {
     "outputs_hidden": true
    }
   },
   "outputs": [],
   "source": [
    "# Stwórzmy obiekt o nazwie „a” i przypiszmy mu numer 5\n",
    "a = 5"
   ]
  },
  {
   "cell_type": "markdown",
   "metadata": {},
   "source": [
    "Teraz, jeśli wywołam a w moim skrypcie Pythona, Python potraktuje go jako numer 5."
   ]
  },
  {
   "cell_type": "code",
   "execution_count": 12,
   "metadata": {},
   "outputs": [
    {
     "data": {
      "text/plain": [
       "10"
      ]
     },
     "execution_count": 12,
     "metadata": {},
     "output_type": "execute_result"
    }
   ],
   "source": [
    "# Dodawanie obiektów\n",
    "a+a"
   ]
  },
  {
   "cell_type": "markdown",
   "metadata": {},
   "source": [
    " Czy Python pozwoli nam nadpisać a?"
   ]
  },
  {
   "cell_type": "code",
   "execution_count": 13,
   "metadata": {
    "collapsed": true,
    "jupyter": {
     "outputs_hidden": true
    }
   },
   "outputs": [],
   "source": [
    "# Ponowne przypisanie zmiennej a \n",
    "a = 10"
   ]
  },
  {
   "cell_type": "code",
   "execution_count": 14,
   "metadata": {},
   "outputs": [
    {
     "data": {
      "text/plain": [
       "10"
      ]
     },
     "execution_count": 14,
     "metadata": {},
     "output_type": "execute_result"
    }
   ],
   "source": [
    "# Sprawdzenie wartości a\n",
    "a"
   ]
  },
  {
   "cell_type": "markdown",
   "metadata": {},
   "source": [
    "Tak! Python umożliwia  nadpisanie nazw zmiennych. Możemy również użyć samych zmiennych podczas zmiany przypisania. Oto przykład tego, co mam na myśli:"
   ]
  },
  {
   "cell_type": "code",
   "execution_count": 15,
   "metadata": {},
   "outputs": [
    {
     "data": {
      "text/plain": [
       "10"
      ]
     },
     "execution_count": 15,
     "metadata": {},
     "output_type": "execute_result"
    }
   ],
   "source": [
    "# Sprawdzenie\n",
    "a"
   ]
  },
  {
   "cell_type": "code",
   "execution_count": 16,
   "metadata": {
    "collapsed": true,
    "jupyter": {
     "outputs_hidden": true
    }
   },
   "outputs": [],
   "source": [
    "# Używamy a do zredefiniowania a\n",
    "a = a + a"
   ]
  },
  {
   "cell_type": "code",
   "execution_count": 17,
   "metadata": {},
   "outputs": [
    {
     "data": {
      "text/plain": [
       "20"
      ]
     },
     "execution_count": 17,
     "metadata": {},
     "output_type": "execute_result"
    }
   ],
   "source": [
    "# sprawdzenie\n",
    "a"
   ]
  },
  {
   "cell_type": "markdown",
   "metadata": {},
   "source": [
    "Nazwy używane podczas tworzenia tych etykiet muszą być zgodne z kilkoma zasadami:\n",
    "\n",
    "1. Nazwy nie mogą zaczynać się od cyfry.\n",
    "2. W nazwie nie może być spacji, zamiast tego użyj _.\n",
    "3. Nie możesz użyć żadnego z tych symboli :'\",<>/?|\\()!@#$%^&*~-+\n",
    "4. Za najlepszą praktykę (PEP8) uważa się, że nazwy są pisane małymi literami.\n",
    "5. Unikaj używania znaków „l” (mała litera el), „O” (duża litera oh),\n",
    "    lub 'I' (oczko z wielkiej litery) jako jednoznakowe nazwy zmiennych.\n",
    "6. Unikaj używania słów, które mają specjalne znaczenie w Pythonie, takich jak „lista” i „str”\n",
    "Używanie nazw zmiennych może być bardzo użytecznym sposobem śledzenia różnych zmiennych w Pythonie.\n",
    "7. Używaj angielskich nazw zmiennych\n",
    "\n",
    "Na przykład:"
   ]
  },
  {
   "cell_type": "code",
   "execution_count": 18,
   "metadata": {
    "collapsed": true,
    "jupyter": {
     "outputs_hidden": true
    }
   },
   "outputs": [],
   "source": [
    "# Używaj nazw obiektów, aby lepiej śledzić, co dzieje się w Twoim kodzie!\n",
    "my_income = 100\n",
    "\n",
    "tax_rate = 0.1\n",
    "\n",
    "my_taxes = my_income*tax_rate"
   ]
  },
  {
   "cell_type": "code",
   "execution_count": 19,
   "metadata": {},
   "outputs": [
    {
     "data": {
      "text/plain": [
       "10.0"
      ]
     },
     "execution_count": 19,
     "metadata": {},
     "output_type": "execute_result"
    }
   ],
   "source": [
    "# Wyświetl!\n",
    "my_taxes"
   ]
  },
  {
   "cell_type": "markdown",
   "metadata": {},
   "source": [
    "Więc czego się nauczyliśmy? Nauczyliśmy się podstaw liczb w Pythonie. Nauczyliśmy się także robić arytmetykę i używać Pythona jako podstawowego kalkulatora. Następnie zakończyliśmy to nauką o przypisywaniu zmiennych w Pythonie.\n",
    "\n",
    "W następnej kolejności dowiemy się o Strings!"
   ]
  },
  {
   "cell_type": "code",
   "execution_count": null,
   "metadata": {},
   "outputs": [],
   "source": []
  },
  {
   "cell_type": "code",
   "execution_count": null,
   "metadata": {},
   "outputs": [],
   "source": []
  }
 ],
 "metadata": {
  "anaconda-cloud": {},
  "kernelspec": {
   "display_name": "Python 3 (ipykernel)",
   "language": "python",
   "name": "python3"
  },
  "language_info": {
   "codemirror_mode": {
    "name": "ipython",
    "version": 3
   },
   "file_extension": ".py",
   "mimetype": "text/x-python",
   "name": "python",
   "nbconvert_exporter": "python",
   "pygments_lexer": "ipython3",
   "version": "3.9.7"
  }
 },
 "nbformat": 4,
 "nbformat_minor": 4
}
