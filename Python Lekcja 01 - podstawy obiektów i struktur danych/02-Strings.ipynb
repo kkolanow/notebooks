{
 "cells": [
  {
   "cell_type": "markdown",
   "source": [
    "<center><a href='https://bluesoft.com'><img width=\"150\" src='../bluesoft.png'/></a></center>"
   ],
   "metadata": {}
  },
  {
   "cell_type": "markdown",
   "source": [
    "# String - Łańcuch znaków"
   ],
   "metadata": {}
  },
  {
   "cell_type": "markdown",
   "source": [
    "Ciągi znaków czyli dane tekstowe w w pythonie są obsługiwane przez obiekty typu *str* nazywane *string*. W Pythonie łańcuchy znaków  są w rzeczywistości *sekwencją*, co w zasadzie oznacza, że Python śledzi każdy element w łańcuchu osobno. Na przykład Python rozumie, że łańcuch „hello” jest sekwencją liter w określonej kolejności. Oznacza to, że będziemy mogli użyć indeksowania, aby pobrać określone litery (takie jak pierwsza litera lub ostatnia litera).\r\n",
    "\r\n",
    "Ta idea sekwencji jest ważna w Pythonie i poruszymy ją później w przyszłości.\r\n",
    "\r\n",
    "W tym wykładzie dowiemy się o następujących kwestiach:\r\n",
    "\r\n",
    "     1.) Tworzenie String'ów\r\n",
    "     2.) Wypisywanie String'ów\r\n",
    "     3.) Indeksowanie i cięcie String'ów\r\n",
    "     4.) Właściwości obiektu String\r\n",
    "     5.) Metody obiektu String\r\n",
    "     6.) Formatowanie String "
   ],
   "metadata": {}
  },
  {
   "cell_type": "markdown",
   "source": [
    "## Tworzenie String'a\r\n",
    "Aby utworzyć string w Pythonie, musisz użyć pojedynczych, podwójnych lub potrójnych cudzysłowów .Na przykład:"
   ],
   "metadata": {}
  },
  {
   "cell_type": "code",
   "execution_count": 1,
   "source": [
    "# Pojedyńcze słowo\r\n",
    "'hello'"
   ],
   "outputs": [
    {
     "output_type": "execute_result",
     "data": {
      "text/plain": [
       "'hello'"
      ]
     },
     "metadata": {},
     "execution_count": 1
    }
   ],
   "metadata": {}
  },
  {
   "cell_type": "code",
   "execution_count": 2,
   "source": [
    "# Całe zdanie\r\n",
    "'This is also a string'"
   ],
   "outputs": [
    {
     "output_type": "execute_result",
     "data": {
      "text/plain": [
       "'This is also a string'"
      ]
     },
     "metadata": {},
     "execution_count": 2
    }
   ],
   "metadata": {}
  },
  {
   "cell_type": "code",
   "execution_count": 3,
   "source": [
    "# Możemy używać także podwójnych cudzysłowów\r\n",
    "\"String built with double quotes\""
   ],
   "outputs": [
    {
     "output_type": "execute_result",
     "data": {
      "text/plain": [
       "'String built with double quotes'"
      ]
     },
     "metadata": {},
     "execution_count": 3
    }
   ],
   "metadata": {}
  },
  {
   "cell_type": "code",
   "execution_count": 4,
   "source": [
    "# Uwaga na znak `!\r\n",
    "'  To ' jest pojedyńczy cudzysłów, ale poowduje błąd'"
   ],
   "outputs": [
    {
     "output_type": "error",
     "ename": "SyntaxError",
     "evalue": "invalid syntax (<ipython-input-4-2614582dbc4a>, line 2)",
     "traceback": [
      "\u001b[1;36m  File \u001b[1;32m\"<ipython-input-4-2614582dbc4a>\"\u001b[1;36m, line \u001b[1;32m2\u001b[0m\n\u001b[1;33m    '  To ' jest pojedyńczy cudzysłów, ale poowduje błąd'\u001b[0m\n\u001b[1;37m            ^\u001b[0m\n\u001b[1;31mSyntaxError\u001b[0m\u001b[1;31m:\u001b[0m invalid syntax\n"
     ]
    }
   ],
   "metadata": {}
  },
  {
   "cell_type": "markdown",
   "source": [
    "Powodem powyższego błędu jest to, że pojedynczy cudzysłów w <code>To ` jest</code> został zinterpretowany jako koniec łańcucha znaków . Możesz użyć kombinacji podwójnych i pojedynczych cudzysłowów, aby uzyskać pełne zestawienie."
   ],
   "metadata": {}
  },
  {
   "cell_type": "code",
   "execution_count": null,
   "source": [
    "\"Teraz możemy użyć pojedyńczego ` cudzyłowu, bo tekst jest w podwójnych cudzysłowach!\""
   ],
   "outputs": [
    {
     "output_type": "execute_result",
     "data": {
      "text/plain": [
       "'Teraz możemy użyć pojedyńczego ` cudzyłowu, bo tekst jest w podwójnych cudzysłowach!'"
      ]
     },
     "metadata": {},
     "execution_count": 1
    }
   ],
   "metadata": {}
  },
  {
   "cell_type": "markdown",
   "source": [
    "# Potrójne cudzysłów ''' pozwala na tworzenie stringów , które rozciągają się na kilka liniijek, na przykład:"
   ],
   "metadata": {}
  },
  {
   "cell_type": "code",
   "execution_count": 3,
   "source": [
    "'''Bardzo długi string \r\n",
    " kolejna linijka \r\n",
    " i jeszcze jedna '''"
   ],
   "outputs": [
    {
     "output_type": "execute_result",
     "data": {
      "text/plain": [
       "'Bardzo długi string \\n kolejna linijka \\n i jeszcze jedna '"
      ]
     },
     "metadata": {},
     "execution_count": 3
    }
   ],
   "metadata": {}
  },
  {
   "cell_type": "markdown",
   "source": [],
   "metadata": {}
  },
  {
   "cell_type": "markdown",
   "source": [
    "Teraz nauczmy się wypisywania łańcuchów znaków!"
   ],
   "metadata": {}
  },
  {
   "cell_type": "markdown",
   "source": [
    "## Wypisywanie obiektów String\n",
    "\n",
    "Korzystanie z notesu Jupyter z samym ciągiem w komórce spowoduje automatyczne wyświetlenie zmiennych, ale prawidłowym sposobem wyświetlania ciągów w danych wyjściowych jest użycie funkcji print."
   ],
   "metadata": {}
  },
  {
   "cell_type": "code",
   "execution_count": null,
   "source": [
    "# w jupyter notebook  możemy po prostu zadeklarować String\r\n",
    "'Hello World'"
   ],
   "outputs": [
    {
     "output_type": "execute_result",
     "data": {
      "text/plain": [
       "'Hello World'"
      ]
     },
     "metadata": {},
     "execution_count": 6
    }
   ],
   "metadata": {}
  },
  {
   "cell_type": "code",
   "execution_count": null,
   "source": [
    "# Ale to nie działą , gdy chcemy wypisać kilka obiektów String\r\n",
    "'Hello World 1'\r\n",
    "'Hello World 2'"
   ],
   "outputs": [
    {
     "output_type": "execute_result",
     "data": {
      "text/plain": [
       "'Hello World 2'"
      ]
     },
     "metadata": {},
     "execution_count": 7
    }
   ],
   "metadata": {}
  },
  {
   "cell_type": "markdown",
   "source": [
    "Możemy użyć instrukcji print do wydrukowania string."
   ],
   "metadata": {}
  },
  {
   "cell_type": "code",
   "execution_count": null,
   "source": [
    "print('Hello World 1')\r\n",
    "print('Hello World 2')\r\n",
    "print('Użyj \\n aby wydrukować znak końca linii')\r\n",
    "print('\\n')\r\n",
    "print('Teraz widzisz o co chodzi?')"
   ],
   "outputs": [
    {
     "output_type": "stream",
     "name": "stdout",
     "text": [
      "Hello World 1\n",
      "Hello World 2\n",
      "Użyj \n",
      " aby wydrukować znak końca linii\n",
      "\n",
      "\n",
      "Teraz widzisz o co chodzi?\n"
     ]
    }
   ],
   "metadata": {}
  },
  {
   "cell_type": "markdown",
   "source": [
    "## String - Podstawy\n",
    "Python posiada wiele wbudowanych i bardzo użytecznych funkcji związanych ze String."
   ],
   "metadata": {}
  },
  {
   "cell_type": "markdown",
   "source": [
    "Możemy użyć funkcji o nazwie len(), aby sprawdzić długość ciągu!"
   ],
   "metadata": {}
  },
  {
   "cell_type": "code",
   "execution_count": null,
   "source": [
    "len('Hello World')"
   ],
   "outputs": [
    {
     "output_type": "execute_result",
     "data": {
      "text/plain": [
       "11"
      ]
     },
     "metadata": {},
     "execution_count": 9
    }
   ],
   "metadata": {}
  },
  {
   "cell_type": "markdown",
   "source": [
    "Wbudowana w Pythona funkcja len() zlicza wszystkie znaki w ciągu, w tym spacje i znaki interpunkcyjne."
   ],
   "metadata": {}
  },
  {
   "cell_type": "code",
   "execution_count": 4,
   "source": [
    "\"ala ma kota\".capitalize()\r\n"
   ],
   "outputs": [
    {
     "output_type": "execute_result",
     "data": {
      "text/plain": [
       "'Ala ma kota'"
      ]
     },
     "metadata": {},
     "execution_count": 4
    }
   ],
   "metadata": {}
  },
  {
   "cell_type": "code",
   "execution_count": null,
   "source": [
    "\"ala ma kota\".count()"
   ],
   "outputs": [],
   "metadata": {}
  },
  {
   "cell_type": "code",
   "execution_count": null,
   "source": [
    "\"ala ma kota\".endswith(\"kota\")"
   ],
   "outputs": [],
   "metadata": {}
  },
  {
   "cell_type": "code",
   "execution_count": null,
   "source": [
    "\"ala ma kota\".find(\"ma\")"
   ],
   "outputs": [],
   "metadata": {}
  },
  {
   "cell_type": "code",
   "execution_count": null,
   "source": [
    "\"Suma 1 i 2 wynosi {}  \".format(1+2)"
   ],
   "outputs": [],
   "metadata": {}
  },
  {
   "cell_type": "code",
   "execution_count": null,
   "source": [
    "\"1234\".isdecimal()"
   ],
   "outputs": [],
   "metadata": {}
  },
  {
   "cell_type": "code",
   "execution_count": null,
   "source": [
    "\"ala ma kota\".islower()"
   ],
   "outputs": [],
   "metadata": {}
  },
  {
   "cell_type": "code",
   "execution_count": null,
   "source": [
    "\"ala ma \".join(\"kota\")"
   ],
   "outputs": [],
   "metadata": {}
  },
  {
   "cell_type": "code",
   "execution_count": null,
   "source": [
    "\"ala Ma KOta\".lower()"
   ],
   "outputs": [],
   "metadata": {}
  },
  {
   "cell_type": "code",
   "execution_count": null,
   "source": [
    "\"ala ma kota\".replace(\"kota\", \"psa\")"
   ],
   "outputs": [],
   "metadata": {}
  },
  {
   "cell_type": "markdown",
   "source": [],
   "metadata": {}
  },
  {
   "cell_type": "code",
   "execution_count": null,
   "source": [
    "\"ala ma kota\".isalpha()"
   ],
   "outputs": [],
   "metadata": {}
  },
  {
   "cell_type": "code",
   "execution_count": null,
   "source": [
    "\"ala ma kota\".index[0]"
   ],
   "outputs": [],
   "metadata": {}
  },
  {
   "cell_type": "markdown",
   "source": [
    "## Indeksowanie ciągów\n",
    "Wiemy, że łańcuchy są sekwencją, co oznacza, że Python może używać indeksów do wywoływania części sekwencji. Dowiedzmy się, jak to działa.\n",
    "\n",
    "W Pythonie używamy nawiasów <code>[]</code> po obiekcie, aby wywołać jego indeks. Powinniśmy również zauważyć, że indeksowanie zaczyna się od 0 dla Pythona. Stwórzmy nowy obiekt o nazwie <code>s</code>, a następnie zapoznajmy się z kilkoma przykładami indeksowania.\n"
   ],
   "metadata": {}
  },
  {
   "cell_type": "code",
   "execution_count": 5,
   "source": [
    "# Przypisanie łańcucha do zmiennej\r\n",
    "s = 'Hello World'"
   ],
   "outputs": [],
   "metadata": {
    "collapsed": true,
    "jupyter": {
     "outputs_hidden": true
    }
   }
  },
  {
   "cell_type": "code",
   "execution_count": 6,
   "source": [
    "#Sprawdzenie\r\n",
    "s"
   ],
   "outputs": [
    {
     "output_type": "execute_result",
     "data": {
      "text/plain": [
       "'Hello World'"
      ]
     },
     "metadata": {},
     "execution_count": 6
    }
   ],
   "metadata": {}
  },
  {
   "cell_type": "code",
   "execution_count": 7,
   "source": [
    "# Wypisz obiekt używając print\r\n",
    "print(s) "
   ],
   "outputs": [
    {
     "output_type": "stream",
     "name": "stdout",
     "text": [
      "Hello World\n"
     ]
    }
   ],
   "metadata": {}
  },
  {
   "cell_type": "markdown",
   "source": [
    "Zacznijmy zabawę indeksami!"
   ],
   "metadata": {}
  },
  {
   "cell_type": "code",
   "execution_count": 8,
   "source": [
    "# Pokaż pierwszy element (w tym przypadku literę)\r\n",
    "s[0]"
   ],
   "outputs": [
    {
     "output_type": "execute_result",
     "data": {
      "text/plain": [
       "'H'"
      ]
     },
     "metadata": {},
     "execution_count": 8
    }
   ],
   "metadata": {}
  },
  {
   "cell_type": "code",
   "execution_count": 9,
   "source": [
    "# Pokaż drugi element (w tym przypadku literę)\r\n",
    "s[1]"
   ],
   "outputs": [
    {
     "output_type": "execute_result",
     "data": {
      "text/plain": [
       "'e'"
      ]
     },
     "metadata": {},
     "execution_count": 9
    }
   ],
   "metadata": {}
  },
  {
   "cell_type": "code",
   "execution_count": 10,
   "source": [
    "# Pokaż trzeci element (w tym przypadku literę)\r\n",
    "s[2]"
   ],
   "outputs": [
    {
     "output_type": "execute_result",
     "data": {
      "text/plain": [
       "'l'"
      ]
     },
     "metadata": {},
     "execution_count": 10
    }
   ],
   "metadata": {}
  },
  {
   "cell_type": "markdown",
   "source": [
    "Możemy użyć <code>:</code>, aby wykonać *slicing*, który chwyta wszystko do wyznaczonego punktu. Jest to sposób na cięcie string-a i zwrócenie tylko części która nas interesuje . Na przykład:"
   ],
   "metadata": {}
  },
  {
   "cell_type": "code",
   "execution_count": 11,
   "source": [
    "# Zwróć wszystko poza pierwszym terminem aż do długości s, która jest len(s)\r\n",
    "s[1:]"
   ],
   "outputs": [
    {
     "output_type": "execute_result",
     "data": {
      "text/plain": [
       "'ello World'"
      ]
     },
     "metadata": {},
     "execution_count": 11
    }
   ],
   "metadata": {}
  },
  {
   "cell_type": "code",
   "execution_count": 12,
   "source": [
    "# Zwróć uwagę, że nie ma zmian w oryginalnym s\r\n",
    "s"
   ],
   "outputs": [
    {
     "output_type": "execute_result",
     "data": {
      "text/plain": [
       "'Hello World'"
      ]
     },
     "metadata": {},
     "execution_count": 12
    }
   ],
   "metadata": {}
  },
  {
   "cell_type": "code",
   "execution_count": 13,
   "source": [
    "# Chwyć wszystko DO 3. indeksu\r\n",
    "s[:3]"
   ],
   "outputs": [
    {
     "output_type": "execute_result",
     "data": {
      "text/plain": [
       "'Hel'"
      ]
     },
     "metadata": {},
     "execution_count": 13
    }
   ],
   "metadata": {}
  },
  {
   "cell_type": "markdown",
   "source": [
    "Zwróć uwagę na powyższe krojenie. Tutaj mówimy Pythonowi, aby złapał wszystko od 0 do 3. Nie zawiera trzeciego indeksu. Często zauważysz to w Pythonie, gdzie instrukcje i są zwykle w kontekście „tylko do tego miejsca, ale już nie w nim”."
   ],
   "metadata": {}
  },
  {
   "cell_type": "code",
   "execution_count": 14,
   "source": [
    "#Całość\r\n",
    "s[:]"
   ],
   "outputs": [
    {
     "output_type": "execute_result",
     "data": {
      "text/plain": [
       "'Hello World'"
      ]
     },
     "metadata": {},
     "execution_count": 14
    }
   ],
   "metadata": {}
  },
  {
   "cell_type": "markdown",
   "source": [
    "Możemy również użyć indeksowania ujemnego, aby cofnąć się."
   ],
   "metadata": {}
  },
  {
   "cell_type": "code",
   "execution_count": 15,
   "source": [
    "# Ostatnia litera (jeden indeks za 0, więc zapętla się z powrotem)\r\n",
    "s[-1]"
   ],
   "outputs": [
    {
     "output_type": "execute_result",
     "data": {
      "text/plain": [
       "'d'"
      ]
     },
     "metadata": {},
     "execution_count": 15
    }
   ],
   "metadata": {}
  },
  {
   "cell_type": "code",
   "execution_count": 16,
   "source": [
    "# Zwróć wszystko oprócz ostatniej litery\r\n",
    "s[:-1]"
   ],
   "outputs": [
    {
     "output_type": "execute_result",
     "data": {
      "text/plain": [
       "'Hello Worl'"
      ]
     },
     "metadata": {},
     "execution_count": 16
    }
   ],
   "metadata": {}
  },
  {
   "cell_type": "markdown",
   "source": [
    "Możemy również użyć notacji indeksu i wycinka, aby pobrać elementy sekwencji o określony rozmiar kroku (domyślnie 1). Na przykład możemy użyć dwóch dwukropków z rzędu, a następnie liczby określającej częstotliwość pobierania elementów. Na przykład:"
   ],
   "metadata": {}
  },
  {
   "cell_type": "code",
   "execution_count": 17,
   "source": [
    "# zwróć wszystko, ale skacz w krokach o wielkości 1\r\n",
    "s[::1]"
   ],
   "outputs": [
    {
     "output_type": "execute_result",
     "data": {
      "text/plain": [
       "'Hello World'"
      ]
     },
     "metadata": {},
     "execution_count": 17
    }
   ],
   "metadata": {}
  },
  {
   "cell_type": "code",
   "execution_count": 18,
   "source": [
    "# zwróć wszystko, ale skacz w krokach o wielkości 2\r\n",
    "s[::2]"
   ],
   "outputs": [
    {
     "output_type": "execute_result",
     "data": {
      "text/plain": [
       "'HloWrd'"
      ]
     },
     "metadata": {},
     "execution_count": 18
    }
   ],
   "metadata": {}
  },
  {
   "cell_type": "code",
   "execution_count": 19,
   "source": [
    "# Możemy użyć tego do drukowania ciągów do tyłu\r\n",
    "s[::-1]"
   ],
   "outputs": [
    {
     "output_type": "execute_result",
     "data": {
      "text/plain": [
       "'dlroW olleH'"
      ]
     },
     "metadata": {},
     "execution_count": 19
    }
   ],
   "metadata": {}
  },
  {
   "cell_type": "markdown",
   "source": [
    "## Właściwości string.\n",
    "Ważne jest, aby pamiętać, że ciągi mają ważną właściwość jako * niezmienność * ang immutable .Oznacza to, że po utworzeniu ciągów elementy w niej nie można zmienić ani wymienić.Na przykład:"
   ],
   "metadata": {}
  },
  {
   "cell_type": "code",
   "execution_count": 20,
   "source": [
    "s"
   ],
   "outputs": [
    {
     "output_type": "execute_result",
     "data": {
      "text/plain": [
       "'Hello World'"
      ]
     },
     "metadata": {},
     "execution_count": 20
    }
   ],
   "metadata": {}
  },
  {
   "cell_type": "code",
   "execution_count": 21,
   "source": [
    "# Spróbujmy zmienić pierwszą literę do \"x\"\r\n",
    "s[0] = 'x'"
   ],
   "outputs": [
    {
     "output_type": "error",
     "ename": "TypeError",
     "evalue": "'str' object does not support item assignment",
     "traceback": [
      "\u001b[1;31m---------------------------------------------------------------------------\u001b[0m",
      "\u001b[1;31mTypeError\u001b[0m                                 Traceback (most recent call last)",
      "\u001b[1;32m~\\AppData\\Local\\Temp/ipykernel_7660/998430930.py\u001b[0m in \u001b[0;36m<module>\u001b[1;34m\u001b[0m\n\u001b[0;32m      1\u001b[0m \u001b[1;31m# Spróbujmy zmienić pierwszą literę do \"x\"\u001b[0m\u001b[1;33m\u001b[0m\u001b[1;33m\u001b[0m\u001b[0m\n\u001b[1;32m----> 2\u001b[1;33m \u001b[0ms\u001b[0m\u001b[1;33m[\u001b[0m\u001b[1;36m0\u001b[0m\u001b[1;33m]\u001b[0m \u001b[1;33m=\u001b[0m \u001b[1;34m'x'\u001b[0m\u001b[1;33m\u001b[0m\u001b[1;33m\u001b[0m\u001b[0m\n\u001b[0m",
      "\u001b[1;31mTypeError\u001b[0m: 'str' object does not support item assignment"
     ]
    }
   ],
   "metadata": {}
  },
  {
   "cell_type": "markdown",
   "source": [
    "Zauważ, jak błąd mówi nam bezpośrednio, czego nie możemy zrobić, zmienić przypisania przedmiotu  w tym przypadku pierwszej litery stringa!\n",
    "\n",
    "Coś, co *możemy* zrobić to łączenie stringów ang.  (concatenate)!"
   ],
   "metadata": {}
  },
  {
   "cell_type": "code",
   "execution_count": null,
   "source": [
    "s"
   ],
   "outputs": [
    {
     "output_type": "execute_result",
     "data": {
      "text/plain": [
       "'Hello World'"
      ]
     },
     "metadata": {},
     "execution_count": 8
    }
   ],
   "metadata": {}
  },
  {
   "cell_type": "code",
   "execution_count": null,
   "source": [
    "# Sklejanie string'ów\r\n",
    "s + ' doklej mnie!'"
   ],
   "outputs": [
    {
     "output_type": "execute_result",
     "data": {
      "text/plain": [
       "'Hello World doklej mnie!'"
      ]
     },
     "metadata": {},
     "execution_count": 9
    }
   ],
   "metadata": {}
  },
  {
   "cell_type": "code",
   "execution_count": null,
   "source": [
    "# Możemy przypisać jeszcze raz s!\r\n",
    "s = s + ' doklej mnie!'"
   ],
   "outputs": [],
   "metadata": {
    "collapsed": true,
    "jupyter": {
     "outputs_hidden": true
    }
   }
  },
  {
   "cell_type": "code",
   "execution_count": null,
   "source": [
    "print(s)"
   ],
   "outputs": [
    {
     "output_type": "stream",
     "name": "stdout",
     "text": [
      "Hello World concatenate me! doklej mnie!\n"
     ]
    }
   ],
   "metadata": {}
  },
  {
   "cell_type": "code",
   "execution_count": null,
   "source": [
    "s"
   ],
   "outputs": [
    {
     "output_type": "execute_result",
     "data": {
      "text/plain": [
       "'Hello World concatenate me! doklej mnie!'"
      ]
     },
     "metadata": {},
     "execution_count": 13
    }
   ],
   "metadata": {}
  },
  {
   "cell_type": "markdown",
   "source": [
    "Możemy użyć symbolu mnożenia, aby utworzyć powtórzenie!"
   ],
   "metadata": {}
  },
  {
   "cell_type": "code",
   "execution_count": null,
   "source": [
    "letter = 'z'"
   ],
   "outputs": [],
   "metadata": {
    "collapsed": true,
    "jupyter": {
     "outputs_hidden": true
    }
   }
  },
  {
   "cell_type": "code",
   "execution_count": null,
   "source": [
    "letter*10"
   ],
   "outputs": [
    {
     "output_type": "execute_result",
     "data": {
      "text/plain": [
       "'zzzzzzzzzz'"
      ]
     },
     "metadata": {},
     "execution_count": 33
    }
   ],
   "metadata": {}
  },
  {
   "cell_type": "markdown",
   "source": [
    "## Podstawowe wbudowane metody klasy String\r\n",
    "\r\n",
    "Obiekty w Pythonie zazwyczaj mają wbudowane metody.Metody te są funkcjami wewnątrz obiektu (dowiemy się o nich znacznie więcej później), które mogą wykonywać działania lub polecenia na samym obiekcie.\r\n",
    "\r\n",
    "piszemy nazwę obiektu, a następnie nazwę metody. Na przykład:\r\n",
    "\r\n",
    "obiekt.metoda(parametry)\r\n",
    "\r\n",
    "Gdzie parametry są dodatkowymi argumentami. Nie martw się, jeśli jakie szczegóły nie mają teraz 100% sensu. Później będziemy tworzyć nasze własne obiekty i funkcje!\r\n",
    "\r\n",
    "Oto kilka przykładów wbudowanych metod w String:"
   ],
   "metadata": {}
  },
  {
   "cell_type": "code",
   "execution_count": null,
   "source": [
    "s"
   ],
   "outputs": [
    {
     "output_type": "execute_result",
     "data": {
      "text/plain": [
       "'Hello World concatenate me!'"
      ]
     },
     "metadata": {},
     "execution_count": 34
    }
   ],
   "metadata": {}
  },
  {
   "cell_type": "code",
   "execution_count": null,
   "source": [
    "# Upper Case \r\n",
    "s.upper()"
   ],
   "outputs": [
    {
     "output_type": "execute_result",
     "data": {
      "text/plain": [
       "'HELLO WORLD CONCATENATE ME!'"
      ]
     },
     "metadata": {},
     "execution_count": 35
    }
   ],
   "metadata": {}
  },
  {
   "cell_type": "code",
   "execution_count": null,
   "source": [
    "# Lower case\r\n",
    "s.lower()"
   ],
   "outputs": [
    {
     "output_type": "execute_result",
     "data": {
      "text/plain": [
       "'hello world concatenate me!'"
      ]
     },
     "metadata": {},
     "execution_count": 36
    }
   ],
   "metadata": {}
  },
  {
   "cell_type": "code",
   "execution_count": null,
   "source": [
    "# Potnij łańcuch używając znaku \" \" - space (jest to domyślne)\r\n",
    "s.split()"
   ],
   "outputs": [
    {
     "output_type": "execute_result",
     "data": {
      "text/plain": [
       "['Hello', 'World', 'concatenate', 'me!']"
      ]
     },
     "metadata": {},
     "execution_count": 37
    }
   ],
   "metadata": {}
  },
  {
   "cell_type": "code",
   "execution_count": null,
   "source": [
    "# Podziel łąńcuch używając określonego elementu (tablica wynikowa nie zawiera elementu,  którym został podzielony)\r\n",
    "s.split('W')"
   ],
   "outputs": [
    {
     "output_type": "execute_result",
     "data": {
      "text/plain": [
       "['Hello ', 'orld concatenate me!']"
      ]
     },
     "metadata": {},
     "execution_count": 38
    }
   ],
   "metadata": {}
  },
  {
   "cell_type": "markdown",
   "source": [
    "Więcej metod String poznamy na kolejnych zajęciach"
   ],
   "metadata": {}
  },
  {
   "cell_type": "markdown",
   "source": [
    "## Formatowanie String\r\n",
    "\r\n",
    "Możemy użyć metody .Format (), aby formatować String-i.\r\n",
    "\r\n",
    "Najprostszym sposobem na pokazanie tego jest przykład:"
   ],
   "metadata": {}
  },
  {
   "cell_type": "code",
   "execution_count": null,
   "source": [
    "'Włóż kolejny ciąg w nawiasy kręcone: {}'.format('Wstawiony ciąg')"
   ],
   "outputs": [
    {
     "output_type": "execute_result",
     "data": {
      "text/plain": [
       "'Włóż kolejny ciąg w nawiasy kręcone: Wstawiony ciąg'"
      ]
     },
     "metadata": {},
     "execution_count": 2
    }
   ],
   "metadata": {}
  },
  {
   "cell_type": "markdown",
   "source": [
    "## Natępny temat : Formatowanie Stringów a potem Listy!"
   ],
   "metadata": {}
  }
 ],
 "metadata": {
  "kernelspec": {
   "name": "python3",
   "display_name": "Python 3.9.7 64-bit"
  },
  "language_info": {
   "codemirror_mode": {
    "name": "ipython",
    "version": 3
   },
   "file_extension": ".py",
   "mimetype": "text/x-python",
   "name": "python",
   "nbconvert_exporter": "python",
   "pygments_lexer": "ipython3",
   "version": "3.9.7"
  },
  "interpreter": {
   "hash": "7d74088e59845348b763f5baf8a8077c3c781361bded6ae723cd9e7747d4612d"
  }
 },
 "nbformat": 4,
 "nbformat_minor": 4
}