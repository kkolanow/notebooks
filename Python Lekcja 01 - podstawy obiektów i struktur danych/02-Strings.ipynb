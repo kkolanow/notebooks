{
 "cells": [
  {
   "cell_type": "markdown",
   "source": [
    "<center><a href='https://bluesoft.com'><img width=\"150\" src='../bluesoft.png'/></a></center>"
   ],
   "metadata": {}
  },
  {
   "cell_type": "markdown",
   "source": [
    "# String - Łańcuch znaków"
   ],
   "metadata": {}
  },
  {
   "cell_type": "markdown",
   "source": [
    "Ciągi znaków są używane w Pythonie do zapisywania informacji tekstowych, takich jak nazwy. Łańcuchy w Pythonie są w rzeczywistości *sekwencją*, co w zasadzie oznacza, że Python śledzi każdy element w łańcuchu jako sekwencję. Na przykład Python rozumie, że łańcuch „hello” jest sekwencją liter w określonej kolejności. Oznacza to, że będziemy mogli użyć indeksowania, aby pobrać określone litery (takie jak pierwsza litera lub ostatnia litera).\r\n",
    "\r\n",
    "Ta idea sekwencji jest ważna w Pythonie i poruszymy ją później w przyszłości.\r\n",
    "\r\n",
    "W tym wykładzie dowiemy się o następujących kwestiach:\r\n",
    "\r\n",
    "     1.) Tworzenie String'ów\r\n",
    "     2.) Wypisywanie String'ów\r\n",
    "     3.) Indeksowanie i cięcie String'ów\r\n",
    "     4.) Właściwości obiektu String\r\n",
    "     5.) Metody obiektu String\r\n",
    "     6.) Formatowanie String "
   ],
   "metadata": {}
  },
  {
   "cell_type": "markdown",
   "source": [
    "## Creating a String\n",
    "To create a string in Python you need to use either single quotes or double quotes. For example:"
   ],
   "metadata": {}
  },
  {
   "cell_type": "code",
   "execution_count": 1,
   "source": [
    "# Pojedyńcze słowo\r\n",
    "'hello'"
   ],
   "outputs": [
    {
     "output_type": "execute_result",
     "data": {
      "text/plain": [
       "'hello'"
      ]
     },
     "metadata": {},
     "execution_count": 1
    }
   ],
   "metadata": {}
  },
  {
   "cell_type": "code",
   "execution_count": 2,
   "source": [
    "# Całe zdanie\r\n",
    "'This is also a string'"
   ],
   "outputs": [
    {
     "output_type": "execute_result",
     "data": {
      "text/plain": [
       "'This is also a string'"
      ]
     },
     "metadata": {},
     "execution_count": 2
    }
   ],
   "metadata": {}
  },
  {
   "cell_type": "code",
   "execution_count": 3,
   "source": [
    "# Możemy używać także podwójnych cudzysłowów\r\n",
    "\"String built with double quotes\""
   ],
   "outputs": [
    {
     "output_type": "execute_result",
     "data": {
      "text/plain": [
       "'String built with double quotes'"
      ]
     },
     "metadata": {},
     "execution_count": 3
    }
   ],
   "metadata": {}
  },
  {
   "cell_type": "code",
   "execution_count": 4,
   "source": [
    "# Uwaga na znak `!\r\n",
    "'  To ' jest pojedyńczy cudzysłów, ale poowduje błąd'"
   ],
   "outputs": [
    {
     "output_type": "error",
     "ename": "SyntaxError",
     "evalue": "invalid syntax (<ipython-input-4-2614582dbc4a>, line 2)",
     "traceback": [
      "\u001b[1;36m  File \u001b[1;32m\"<ipython-input-4-2614582dbc4a>\"\u001b[1;36m, line \u001b[1;32m2\u001b[0m\n\u001b[1;33m    '  To ' jest pojedyńczy cudzysłów, ale poowduje błąd'\u001b[0m\n\u001b[1;37m            ^\u001b[0m\n\u001b[1;31mSyntaxError\u001b[0m\u001b[1;31m:\u001b[0m invalid syntax\n"
     ]
    }
   ],
   "metadata": {}
  },
  {
   "cell_type": "markdown",
   "source": [
    "Powodem powyższego błędu jest to, że pojedynczy cudzysłów w <code>To ` jest</code> został zinterpretowany jako koniec łańcucha znaków . Możesz użyć kombinacji podwójnych i pojedynczych cudzysłowów, aby uzyskać pełne zestawienie."
   ],
   "metadata": {}
  },
  {
   "cell_type": "code",
   "execution_count": null,
   "source": [
    "\"Teraz możemy użyć pojedyńczego ` cudzyłowu, bo tekst jest w podwójnych cudzysłowach!\""
   ],
   "outputs": [
    {
     "output_type": "execute_result",
     "data": {
      "text/plain": [
       "'Teraz możemy użyć pojedyńczego ` cudzyłowu, bo tekst jest w podwójnych cudzysłowach!'"
      ]
     },
     "metadata": {},
     "execution_count": 1
    }
   ],
   "metadata": {}
  },
  {
   "cell_type": "markdown",
   "source": [
    "Teraz nauczmy się wypisywania łańcuchów znaków!"
   ],
   "metadata": {}
  },
  {
   "cell_type": "markdown",
   "source": [
    "## Wypisywanie obiektów String\r\n",
    "\r\n",
    "Korzystanie z notesu Jupyter z samym ciągiem w komórce spowoduje automatyczne wyświetlenie zmiennych, ale prawidłowym sposobem wyświetlania ciągów w danych wyjściowych jest użycie funkcji print."
   ],
   "metadata": {}
  },
  {
   "cell_type": "code",
   "execution_count": null,
   "source": [
    "# w jupyter notebook  możemy po prostu zadeklarować String\r\n",
    "'Hello World'"
   ],
   "outputs": [
    {
     "output_type": "execute_result",
     "data": {
      "text/plain": [
       "'Hello World'"
      ]
     },
     "metadata": {},
     "execution_count": 6
    }
   ],
   "metadata": {}
  },
  {
   "cell_type": "code",
   "execution_count": null,
   "source": [
    "# Ale to nie działą , gdy chcemy wypisać kilka obiektów String\r\n",
    "'Hello World 1'\r\n",
    "'Hello World 2'"
   ],
   "outputs": [
    {
     "output_type": "execute_result",
     "data": {
      "text/plain": [
       "'Hello World 2'"
      ]
     },
     "metadata": {},
     "execution_count": 7
    }
   ],
   "metadata": {}
  },
  {
   "cell_type": "markdown",
   "source": [
    "Możemy użyć instrukcji print do wydrukowania string."
   ],
   "metadata": {}
  },
  {
   "cell_type": "code",
   "execution_count": null,
   "source": [
    "print('Hello World 1')\r\n",
    "print('Hello World 2')\r\n",
    "print('Użyj \\n aby wydrukować znak końca linii')\r\n",
    "print('\\n')\r\n",
    "print('Teraz widzisz o co chodzi?')"
   ],
   "outputs": [
    {
     "output_type": "stream",
     "name": "stdout",
     "text": [
      "Hello World 1\n",
      "Hello World 2\n",
      "Użyj \n",
      " aby wydrukować znak końca linii\n",
      "\n",
      "\n",
      "Teraz widzisz o co chodzi?\n"
     ]
    }
   ],
   "metadata": {}
  },
  {
   "cell_type": "markdown",
   "source": [
    "## String - Podstawy\r\n",
    "Python posiada wiele wbudowanych i bardzo użytecznych funkcji związanych ze String."
   ],
   "metadata": {}
  },
  {
   "cell_type": "markdown",
   "source": [
    "Możemy użyć funkcji o nazwie len(), aby sprawdzić długość ciągu!"
   ],
   "metadata": {}
  },
  {
   "cell_type": "code",
   "execution_count": null,
   "source": [
    "len('Hello World')"
   ],
   "outputs": [
    {
     "output_type": "execute_result",
     "data": {
      "text/plain": [
       "11"
      ]
     },
     "metadata": {},
     "execution_count": 9
    }
   ],
   "metadata": {}
  },
  {
   "cell_type": "markdown",
   "source": [
    "Wbudowana w Pythona funkcja len() zlicza wszystkie znaki w ciągu, w tym spacje i znaki interpunkcyjne."
   ],
   "metadata": {}
  },
  {
   "cell_type": "markdown",
   "source": [
    "## Indeksowanie ciągów\r\n",
    "Wiemy, że łańcuchy są sekwencją, co oznacza, że Python może używać indeksów do wywoływania części sekwencji. Dowiedzmy się, jak to działa.\r\n",
    "\r\n",
    "W Pythonie używamy nawiasów <code>[]</code> po obiekcie, aby wywołać jego indeks. Powinniśmy również zauważyć, że indeksowanie zaczyna się od 0 dla Pythona. Stwórzmy nowy obiekt o nazwie <code>s</code>, a następnie zapoznajmy się z kilkoma przykładami indeksowania.\r\n"
   ],
   "metadata": {}
  },
  {
   "cell_type": "code",
   "execution_count": 5,
   "source": [
    "# Przypisanie łańcucha do zmiennej\r\n",
    "s = 'Hello World'"
   ],
   "outputs": [],
   "metadata": {
    "collapsed": true,
    "jupyter": {
     "outputs_hidden": true
    }
   }
  },
  {
   "cell_type": "code",
   "execution_count": null,
   "source": [
    "#Sprawdzenie\r\n",
    "s"
   ],
   "outputs": [
    {
     "output_type": "execute_result",
     "data": {
      "text/plain": [
       "'Hello World'"
      ]
     },
     "metadata": {},
     "execution_count": 11
    }
   ],
   "metadata": {}
  },
  {
   "cell_type": "code",
   "execution_count": null,
   "source": [
    "# Wypisz obiekt używając print\r\n",
    "print(s) "
   ],
   "outputs": [
    {
     "output_type": "stream",
     "name": "stdout",
     "text": [
      "Hello World\n"
     ]
    }
   ],
   "metadata": {}
  },
  {
   "cell_type": "markdown",
   "source": [
    "Zacznijmy zabawę indeksami!"
   ],
   "metadata": {}
  },
  {
   "cell_type": "code",
   "execution_count": null,
   "source": [
    "# Pokaż pierwszy element (w tym przypadku literę)\r\n",
    "s[0]"
   ],
   "outputs": [
    {
     "output_type": "execute_result",
     "data": {
      "text/plain": [
       "'H'"
      ]
     },
     "metadata": {},
     "execution_count": 13
    }
   ],
   "metadata": {}
  },
  {
   "cell_type": "code",
   "execution_count": null,
   "source": [
    "# Pokaż drugi element (w tym przypadku literę)\r\n",
    "s[1]"
   ],
   "outputs": [
    {
     "output_type": "execute_result",
     "data": {
      "text/plain": [
       "'e'"
      ]
     },
     "metadata": {},
     "execution_count": 14
    }
   ],
   "metadata": {}
  },
  {
   "cell_type": "code",
   "execution_count": null,
   "source": [
    "# Pokaż trzeci element (w tym przypadku literę)\r\n",
    "s[2]"
   ],
   "outputs": [
    {
     "output_type": "execute_result",
     "data": {
      "text/plain": [
       "'l'"
      ]
     },
     "metadata": {},
     "execution_count": 15
    }
   ],
   "metadata": {}
  },
  {
   "cell_type": "markdown",
   "source": [
    "Możemy użyć <code>:</code>, aby wykonać *slicing*, który chwyta wszystko do wyznaczonego punktu. Jest to sposób na cięcie string-a i zwrócenie tylko części która nas interesuje . Na przykład:"
   ],
   "metadata": {}
  },
  {
   "cell_type": "code",
   "execution_count": null,
   "source": [
    "# Zwróć wszystko poza pierwszym terminem aż do długości s, która jest len(s)\r\n",
    "s[1:]"
   ],
   "outputs": [
    {
     "output_type": "execute_result",
     "data": {
      "text/plain": [
       "'ello World'"
      ]
     },
     "metadata": {},
     "execution_count": 16
    }
   ],
   "metadata": {}
  },
  {
   "cell_type": "code",
   "execution_count": null,
   "source": [
    "# Zwróć uwagę, że nie ma zmian w oryginalnym s\r\n",
    "s"
   ],
   "outputs": [
    {
     "output_type": "execute_result",
     "data": {
      "text/plain": [
       "'Hello World'"
      ]
     },
     "metadata": {},
     "execution_count": 17
    }
   ],
   "metadata": {}
  },
  {
   "cell_type": "code",
   "execution_count": null,
   "source": [
    "# Chwyć wszystko DO 3. indeksu\r\n",
    "s[:3]"
   ],
   "outputs": [
    {
     "output_type": "execute_result",
     "data": {
      "text/plain": [
       "'Hel'"
      ]
     },
     "metadata": {},
     "execution_count": 18
    }
   ],
   "metadata": {}
  },
  {
   "cell_type": "markdown",
   "source": [
    "Zwróć uwagę na powyższe krojenie. Tutaj mówimy Pythonowi, aby złapał wszystko od 0 do 3. Nie zawiera trzeciego indeksu. Często zauważysz to w Pythonie, gdzie instrukcje i są zwykle w kontekście „tylko do tego miejsca, ale już nie w nim”."
   ],
   "metadata": {}
  },
  {
   "cell_type": "code",
   "execution_count": null,
   "source": [
    "#Całość\r\n",
    "s[:]"
   ],
   "outputs": [
    {
     "output_type": "execute_result",
     "data": {
      "text/plain": [
       "'Hello World'"
      ]
     },
     "metadata": {},
     "execution_count": 19
    }
   ],
   "metadata": {}
  },
  {
   "cell_type": "markdown",
   "source": [
    "Możemy również użyć indeksowania ujemnego, aby cofnąć się."
   ],
   "metadata": {}
  },
  {
   "cell_type": "code",
   "execution_count": null,
   "source": [
    "# Ostatnia litera (jeden indeks za 0, więc zapętla się z powrotem)\r\n",
    "s[-1]"
   ],
   "outputs": [
    {
     "output_type": "execute_result",
     "data": {
      "text/plain": [
       "'d'"
      ]
     },
     "metadata": {},
     "execution_count": 20
    }
   ],
   "metadata": {}
  },
  {
   "cell_type": "code",
   "execution_count": null,
   "source": [
    "# Zwróć wszystko oprócz ostatniej litery\r\n",
    "s[:-1]"
   ],
   "outputs": [
    {
     "output_type": "execute_result",
     "data": {
      "text/plain": [
       "'Hello Worl'"
      ]
     },
     "metadata": {},
     "execution_count": 21
    }
   ],
   "metadata": {}
  },
  {
   "cell_type": "markdown",
   "source": [
    "Możemy również użyć notacji indeksu i wycinka, aby pobrać elementy sekwencji o określony rozmiar kroku (domyślnie 1). Na przykład możemy użyć dwóch dwukropków z rzędu, a następnie liczby określającej częstotliwość pobierania elementów. Na przykład:"
   ],
   "metadata": {}
  },
  {
   "cell_type": "code",
   "execution_count": null,
   "source": [
    "# zwróć wszystko, ale skacz w krokach o wielkości 1\r\n",
    "s[::1]"
   ],
   "outputs": [
    {
     "output_type": "execute_result",
     "data": {
      "text/plain": [
       "'Hello World'"
      ]
     },
     "metadata": {},
     "execution_count": 22
    }
   ],
   "metadata": {}
  },
  {
   "cell_type": "code",
   "execution_count": null,
   "source": [
    "# zwróć wszystko, ale skacz w krokach o wielkości 2\r\n",
    "s[::2]"
   ],
   "outputs": [
    {
     "output_type": "execute_result",
     "data": {
      "text/plain": [
       "'HloWrd'"
      ]
     },
     "metadata": {},
     "execution_count": 23
    }
   ],
   "metadata": {}
  },
  {
   "cell_type": "code",
   "execution_count": null,
   "source": [
    "# Możemy użyć tego do drukowania ciągów do tyłu\r\n",
    "s[::-1]"
   ],
   "outputs": [
    {
     "output_type": "execute_result",
     "data": {
      "text/plain": [
       "'dlroW olleH'"
      ]
     },
     "metadata": {},
     "execution_count": 24
    }
   ],
   "metadata": {}
  },
  {
   "cell_type": "markdown",
   "source": [
    "## Właściwości string.\r\n",
    "Ważne jest, aby pamiętać, że ciągi mają ważną właściwość jako * niezmienność * ang immutable .Oznacza to, że po utworzeniu ciągów elementy w niej nie można zmienić ani wymienić.Na przykład:"
   ],
   "metadata": {}
  },
  {
   "cell_type": "code",
   "execution_count": 6,
   "source": [
    "s"
   ],
   "outputs": [
    {
     "output_type": "execute_result",
     "data": {
      "text/plain": [
       "'Hello World'"
      ]
     },
     "metadata": {},
     "execution_count": 6
    }
   ],
   "metadata": {}
  },
  {
   "cell_type": "code",
   "execution_count": 7,
   "source": [
    "# Spróbujmy zmienić pierwszą literę do \"x\"\r\n",
    "s[0] = 'x'"
   ],
   "outputs": [
    {
     "output_type": "error",
     "ename": "TypeError",
     "evalue": "'str' object does not support item assignment",
     "traceback": [
      "\u001b[1;31m---------------------------------------------------------------------------\u001b[0m",
      "\u001b[1;31mTypeError\u001b[0m                                 Traceback (most recent call last)",
      "\u001b[1;32m<ipython-input-7-85a85ff7729f>\u001b[0m in \u001b[0;36m<module>\u001b[1;34m\u001b[0m\n\u001b[0;32m      1\u001b[0m \u001b[1;31m# Spróbujmy zmienić pierwszą literę do \"x\"\u001b[0m\u001b[1;33m\u001b[0m\u001b[1;33m\u001b[0m\u001b[1;33m\u001b[0m\u001b[0m\n\u001b[1;32m----> 2\u001b[1;33m \u001b[0ms\u001b[0m\u001b[1;33m[\u001b[0m\u001b[1;36m0\u001b[0m\u001b[1;33m]\u001b[0m \u001b[1;33m=\u001b[0m \u001b[1;34m'x'\u001b[0m\u001b[1;33m\u001b[0m\u001b[1;33m\u001b[0m\u001b[0m\n\u001b[0m",
      "\u001b[1;31mTypeError\u001b[0m: 'str' object does not support item assignment"
     ]
    }
   ],
   "metadata": {}
  },
  {
   "cell_type": "markdown",
   "source": [
    "Zauważ, jak błąd mówi nam bezpośrednio, czego nie możemy zrobić, zmienić przypisania przedmiotu  w tym przypadku pierwszej litery stringa!\r\n",
    "\r\n",
    "Coś, co * możemy * zrobić to łączenie stringów ang.  (concatenate)!"
   ],
   "metadata": {}
  },
  {
   "cell_type": "code",
   "execution_count": 8,
   "source": [
    "s"
   ],
   "outputs": [
    {
     "output_type": "execute_result",
     "data": {
      "text/plain": [
       "'Hello World'"
      ]
     },
     "metadata": {},
     "execution_count": 8
    }
   ],
   "metadata": {}
  },
  {
   "cell_type": "code",
   "execution_count": 9,
   "source": [
    "# Sklejanie string'ów\r\n",
    "s + ' doklej mnie!'"
   ],
   "outputs": [
    {
     "output_type": "execute_result",
     "data": {
      "text/plain": [
       "'Hello World doklej mnie!'"
      ]
     },
     "metadata": {},
     "execution_count": 9
    }
   ],
   "metadata": {}
  },
  {
   "cell_type": "code",
   "execution_count": 11,
   "source": [
    "# Możemy przypisać jeszcze raz s!\r\n",
    "s = s + ' doklej mnie!'"
   ],
   "outputs": [],
   "metadata": {
    "collapsed": true,
    "jupyter": {
     "outputs_hidden": true
    }
   }
  },
  {
   "cell_type": "code",
   "execution_count": 12,
   "source": [
    "print(s)"
   ],
   "outputs": [
    {
     "output_type": "stream",
     "name": "stdout",
     "text": [
      "Hello World concatenate me! doklej mnie!\n"
     ]
    }
   ],
   "metadata": {}
  },
  {
   "cell_type": "code",
   "execution_count": 13,
   "source": [
    "s"
   ],
   "outputs": [
    {
     "output_type": "execute_result",
     "data": {
      "text/plain": [
       "'Hello World concatenate me! doklej mnie!'"
      ]
     },
     "metadata": {},
     "execution_count": 13
    }
   ],
   "metadata": {}
  },
  {
   "cell_type": "markdown",
   "source": [
    "We can use the multiplication symbol to create repetition!"
   ],
   "metadata": {}
  },
  {
   "cell_type": "code",
   "execution_count": null,
   "source": [
    "letter = 'z'"
   ],
   "outputs": [],
   "metadata": {
    "collapsed": true,
    "jupyter": {
     "outputs_hidden": true
    }
   }
  },
  {
   "cell_type": "code",
   "execution_count": null,
   "source": [
    "letter*10"
   ],
   "outputs": [
    {
     "output_type": "execute_result",
     "data": {
      "text/plain": [
       "'zzzzzzzzzz'"
      ]
     },
     "metadata": {},
     "execution_count": 33
    }
   ],
   "metadata": {}
  },
  {
   "cell_type": "markdown",
   "source": [
    "## Basic Built-in String methods\n",
    "\n",
    "Objects in Python usually have built-in methods. These methods are functions inside the object (we will learn about these in much more depth later) that can perform actions or commands on the object itself.\n",
    "\n",
    "We call methods with a period and then the method name. Methods are in the form:\n",
    "\n",
    "object.method(parameters)\n",
    "\n",
    "Where parameters are extra arguments we can pass into the method. Don't worry if the details don't make 100% sense right now. Later on we will be creating our own objects and functions!\n",
    "\n",
    "Here are some examples of built-in methods in strings:"
   ],
   "metadata": {}
  },
  {
   "cell_type": "code",
   "execution_count": null,
   "source": [
    "s"
   ],
   "outputs": [
    {
     "output_type": "execute_result",
     "data": {
      "text/plain": [
       "'Hello World concatenate me!'"
      ]
     },
     "metadata": {},
     "execution_count": 34
    }
   ],
   "metadata": {}
  },
  {
   "cell_type": "code",
   "execution_count": null,
   "source": [
    "# Upper Case a string\r\n",
    "s.upper()"
   ],
   "outputs": [
    {
     "output_type": "execute_result",
     "data": {
      "text/plain": [
       "'HELLO WORLD CONCATENATE ME!'"
      ]
     },
     "metadata": {},
     "execution_count": 35
    }
   ],
   "metadata": {}
  },
  {
   "cell_type": "code",
   "execution_count": null,
   "source": [
    "# Lower case\r\n",
    "s.lower()"
   ],
   "outputs": [
    {
     "output_type": "execute_result",
     "data": {
      "text/plain": [
       "'hello world concatenate me!'"
      ]
     },
     "metadata": {},
     "execution_count": 36
    }
   ],
   "metadata": {}
  },
  {
   "cell_type": "code",
   "execution_count": null,
   "source": [
    "# Split a string by blank space (this is the default)\r\n",
    "s.split()"
   ],
   "outputs": [
    {
     "output_type": "execute_result",
     "data": {
      "text/plain": [
       "['Hello', 'World', 'concatenate', 'me!']"
      ]
     },
     "metadata": {},
     "execution_count": 37
    }
   ],
   "metadata": {}
  },
  {
   "cell_type": "code",
   "execution_count": null,
   "source": [
    "# Split by a specific element (doesn't include the element that was split on)\r\n",
    "s.split('W')"
   ],
   "outputs": [
    {
     "output_type": "execute_result",
     "data": {
      "text/plain": [
       "['Hello ', 'orld concatenate me!']"
      ]
     },
     "metadata": {},
     "execution_count": 38
    }
   ],
   "metadata": {}
  },
  {
   "cell_type": "markdown",
   "source": [
    "There are many more methods than the ones covered here. Visit the Advanced String section to find out more!"
   ],
   "metadata": {}
  },
  {
   "cell_type": "markdown",
   "source": [
    "## Print Formatting\n",
    "\n",
    "We can use the .format() method to add formatted objects to printed string statements. \n",
    "\n",
    "The easiest way to show this is through an example:"
   ],
   "metadata": {}
  },
  {
   "cell_type": "code",
   "execution_count": null,
   "source": [
    "'Insert another string with curly brackets: {}'.format('The inserted string')"
   ],
   "outputs": [
    {
     "output_type": "execute_result",
     "data": {
      "text/plain": [
       "'Insert another string with curly brackets: The inserted string'"
      ]
     },
     "metadata": {},
     "execution_count": 39
    }
   ],
   "metadata": {}
  },
  {
   "cell_type": "markdown",
   "source": [
    "We will revisit this string formatting topic in later sections when we are building our projects!"
   ],
   "metadata": {}
  },
  {
   "cell_type": "markdown",
   "source": [
    "## Next up: Lists!"
   ],
   "metadata": {}
  }
 ],
 "metadata": {
  "kernelspec": {
   "name": "python3",
   "display_name": "Python 3.8.8 64-bit ('base': conda)"
  },
  "language_info": {
   "codemirror_mode": {
    "name": "ipython",
    "version": 3
   },
   "file_extension": ".py",
   "mimetype": "text/x-python",
   "name": "python",
   "nbconvert_exporter": "python",
   "pygments_lexer": "ipython3",
   "version": "3.8.8"
  },
  "interpreter": {
   "hash": "8fac594bfae6525c0c41b4041d2d72effa188cc8ead05f81b1fab2bb098927fb"
  }
 },
 "nbformat": 4,
 "nbformat_minor": 4
}