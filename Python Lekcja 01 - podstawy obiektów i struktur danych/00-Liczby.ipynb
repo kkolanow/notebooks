{
 "cells": [
  {
   "cell_type": "markdown",
   "source": [
    "<center><a href='https://bluesoft.com'><img width=\"150\" src='../bluesoft.png'/></a></center>"
   ],
   "metadata": {}
  },
  {
   "cell_type": "markdown",
   "source": [
    "# Liczby w Python!\n",
    "\n",
    "W tym wykładzie, poznamy typy liczbowe Pythona i dowiemy się jak ich używać\n",
    "\n",
    "\n",
    "    1.) Typy zmiennych liczbowych w Python\n",
    "    2.) Podstawowa arytmetyka\n",
    "    3.) Różnice w dzieleniu dla zmiennych typów całkowitych a zmiennoprzecinkowych \n",
    "    4.) Przypisanie obiektów w Pythonie"
   ],
   "metadata": {}
  },
  {
   "cell_type": "markdown",
   "source": [
    "## Typy zmiennych liczbowych w Python\n",
    "\n",
    "\n",
    "Python posiada kilka wbudowanych typów dla przechowywania liczb. \n",
    "1. integer:  \n",
    "    - typ całkowity. Dodatni bądź ujemny. Na przykład: 2 i -2 są przykładowymi wartościami przechowywanymi w zmiennych typu integer.\n",
    "2. float (ang. floating point number):\n",
    "    - typ zmiennoprzecinkowy w Pythonie można zapisać na dwa sposoby: z kropką lub użyć potęgi (e), przykładowo:\n",
    "        - 2.0 i -2.1\n",
    "        - 4E2 (4*10^2) \n",
    "3. complex:\n",
    "    - typ complex służy do przedstawiania liczb zespolonych. Każda liczba tego typu składa się z części rzeczywistej z.real oraz urojonej z.imag\n",
    "\n",
    "\n",
    "\n",
    "\n",
    "\n",
    "\n",
    "\n",
    "\n"
   ],
   "metadata": {}
  },
  {
   "cell_type": "markdown",
   "source": [
    "<table>\n",
    "<tr>\n",
    "    <th>Przykładowe wartości</th> \n",
    "    <th>Typ</th>\n",
    "</tr>\n",
    "\n",
    "<tr>\n",
    "    <td>1,2,-5,1000</td>\n",
    "    <td>Integer</td> \n",
    "</tr>\n",
    "\n",
    "<tr>\n",
    "    <td>1.2,-0.5,2e2,3E2</td> \n",
    "    <td>Floating-point</td> \n",
    "</tr>\n",
    " </table>"
   ],
   "metadata": {}
  },
  {
   "cell_type": "markdown",
   "source": [
    " \n",
    "Teraz czas na podstawowe działania!"
   ],
   "metadata": {}
  },
  {
   "cell_type": "markdown",
   "source": [
    "### Działania Artymetyczne"
   ],
   "metadata": {}
  },
  {
   "cell_type": "code",
   "execution_count": 21,
   "source": [
    "# Dodawanie\r\n",
    "2+1"
   ],
   "outputs": [
    {
     "output_type": "execute_result",
     "data": {
      "text/plain": [
       "3"
      ]
     },
     "metadata": {},
     "execution_count": 21
    }
   ],
   "metadata": {}
  },
  {
   "cell_type": "code",
   "execution_count": 2,
   "source": [
    "# Odejmowanie\r\n",
    "2-1"
   ],
   "outputs": [
    {
     "output_type": "execute_result",
     "data": {
      "text/plain": [
       "1"
      ]
     },
     "metadata": {},
     "execution_count": 2
    }
   ],
   "metadata": {}
  },
  {
   "cell_type": "code",
   "execution_count": 3,
   "source": [
    "# Mnożenie\r\n",
    "2*2"
   ],
   "outputs": [
    {
     "output_type": "execute_result",
     "data": {
      "text/plain": [
       "4"
      ]
     },
     "metadata": {},
     "execution_count": 3
    }
   ],
   "metadata": {}
  },
  {
   "cell_type": "code",
   "execution_count": 4,
   "source": [
    "# Dzielenie\r\n",
    "3/2"
   ],
   "outputs": [
    {
     "output_type": "execute_result",
     "data": {
      "text/plain": [
       "1.5"
      ]
     },
     "metadata": {},
     "execution_count": 4
    }
   ],
   "metadata": {}
  },
  {
   "cell_type": "code",
   "execution_count": 5,
   "source": [
    "# Floor Division\r\n",
    "7//4"
   ],
   "outputs": [
    {
     "output_type": "execute_result",
     "data": {
      "text/plain": [
       "1"
      ]
     },
     "metadata": {},
     "execution_count": 5
    }
   ],
   "metadata": {}
  },
  {
   "cell_type": "markdown",
   "source": [
    "**Co tu się stało? 7 dzielone na  4 daje 1.75 nie 1!**\n",
    "\n",
    "Powodem, dla którego otrzymujemy ten wynik, jest to, że używamy podziału \"*floor*\". Operator // (dwa ukośniki) obcina liczbę dziesiętną bez zaokrąglania i zwraca wynik w postaci liczby całkowitej."
   ],
   "metadata": {}
  },
  {
   "cell_type": "markdown",
   "source": [
    "**A co, jeśli chcemy tylko reszty po dzieleniu?**"
   ],
   "metadata": {}
  },
  {
   "cell_type": "code",
   "execution_count": 6,
   "source": [
    "# Modulo\r\n",
    "7%4"
   ],
   "outputs": [
    {
     "output_type": "execute_result",
     "data": {
      "text/plain": [
       "3"
      ]
     },
     "metadata": {},
     "execution_count": 6
    }
   ],
   "metadata": {}
  },
  {
   "cell_type": "markdown",
   "source": [
    "4 zmieści się w 7 jeden raz, z resztą 3. Operator % zwraca resztę po dzieleniu."
   ],
   "metadata": {}
  },
  {
   "cell_type": "markdown",
   "source": [
    "### Pozostałe działania"
   ],
   "metadata": {}
  },
  {
   "cell_type": "code",
   "execution_count": 7,
   "source": [
    "# Potęgowanie\r\n",
    "2**3"
   ],
   "outputs": [
    {
     "output_type": "execute_result",
     "data": {
      "text/plain": [
       "8"
      ]
     },
     "metadata": {},
     "execution_count": 7
    }
   ],
   "metadata": {}
  },
  {
   "cell_type": "code",
   "execution_count": 8,
   "source": [
    "# Pierwiastkowanie\r\n",
    "4**0.5"
   ],
   "outputs": [
    {
     "output_type": "execute_result",
     "data": {
      "text/plain": [
       "2.0"
      ]
     },
     "metadata": {},
     "execution_count": 8
    }
   ],
   "metadata": {}
  },
  {
   "cell_type": "code",
   "execution_count": 9,
   "source": [
    "# Kolejność wykonywania działań w Python\r\n",
    "2 + 10 * 10 + 3"
   ],
   "outputs": [
    {
     "output_type": "execute_result",
     "data": {
      "text/plain": [
       "105"
      ]
     },
     "metadata": {},
     "execution_count": 9
    }
   ],
   "metadata": {}
  },
  {
   "cell_type": "code",
   "execution_count": 10,
   "source": [
    "# W celu wymuszenia kolejności działań używamy nawiasów\n",
    "(2+10) * (10+3)"
   ],
   "outputs": [
    {
     "output_type": "execute_result",
     "data": {
      "text/plain": [
       "156"
      ]
     },
     "metadata": {},
     "execution_count": 10
    }
   ],
   "metadata": {}
  },
  {
   "cell_type": "markdown",
   "source": [
    "## Przypisanie zmiennych\n",
    "\n",
    "Teraz, gdy widzieliśmy, jak używać liczb w Pythonie jako kalkulatora, zobaczmy, jak możemy przypisywać nazwy i tworzyć zmienne.\n",
    "\n",
    "Używamy pojedynczego znaku równości do przypisywania etykiet do zmiennych. Zobaczmy kilka przykładów, jak możemy to zrobić."
   ],
   "metadata": {}
  },
  {
   "cell_type": "code",
   "execution_count": 11,
   "source": [
    "# Stwórzmy obiekt o nazwie „a” i przypiszmy mu numer 5\n",
    "a = 5"
   ],
   "outputs": [],
   "metadata": {
    "jupyter": {
     "outputs_hidden": true
    }
   }
  },
  {
   "cell_type": "markdown",
   "source": [
    "Teraz, jeśli wywołam a w moim skrypcie Pythona, Python potraktuje go jako numer 5."
   ],
   "metadata": {}
  },
  {
   "cell_type": "code",
   "execution_count": 12,
   "source": [
    "# Dodawanie obiektów\n",
    "a+a"
   ],
   "outputs": [
    {
     "output_type": "execute_result",
     "data": {
      "text/plain": [
       "10"
      ]
     },
     "metadata": {},
     "execution_count": 12
    }
   ],
   "metadata": {}
  },
  {
   "cell_type": "markdown",
   "source": [
    " Czy Python pozwoli nam nadpisać a?"
   ],
   "metadata": {}
  },
  {
   "cell_type": "code",
   "execution_count": 13,
   "source": [
    "# Ponowne przypisanie zmiennej a \n",
    "a = 10"
   ],
   "outputs": [],
   "metadata": {
    "jupyter": {
     "outputs_hidden": true
    }
   }
  },
  {
   "cell_type": "code",
   "execution_count": 14,
   "source": [
    "# Sprawdzenie wartości a\n",
    "a"
   ],
   "outputs": [
    {
     "output_type": "execute_result",
     "data": {
      "text/plain": [
       "10"
      ]
     },
     "metadata": {},
     "execution_count": 14
    }
   ],
   "metadata": {}
  },
  {
   "cell_type": "markdown",
   "source": [
    "Tak! Python umożliwia  nadpisanie nazw zmiennych. Możemy również użyć samych zmiennych podczas zmiany przypisania. Oto przykład tego, co mam na myśli:"
   ],
   "metadata": {}
  },
  {
   "cell_type": "code",
   "execution_count": 15,
   "source": [
    "# Sprawdzenie\n",
    "a"
   ],
   "outputs": [
    {
     "output_type": "execute_result",
     "data": {
      "text/plain": [
       "10"
      ]
     },
     "metadata": {},
     "execution_count": 15
    }
   ],
   "metadata": {}
  },
  {
   "cell_type": "code",
   "execution_count": 16,
   "source": [
    "# Używamy a do zredefiniowania a\n",
    "a = a + a"
   ],
   "outputs": [],
   "metadata": {
    "jupyter": {
     "outputs_hidden": true
    }
   }
  },
  {
   "cell_type": "code",
   "execution_count": 17,
   "source": [
    "# sprawdzenie\n",
    "a"
   ],
   "outputs": [
    {
     "output_type": "execute_result",
     "data": {
      "text/plain": [
       "20"
      ]
     },
     "metadata": {},
     "execution_count": 17
    }
   ],
   "metadata": {}
  },
  {
   "cell_type": "markdown",
   "source": [
    "Nazwy używane podczas tworzenia tych etykiet muszą być zgodne z kilkoma zasadami:\n",
    "\n",
    "1. Nazwy nie mogą zaczynać się od cyfry.\n",
    "2. W nazwie nie może być spacji, zamiast tego użyj _.\n",
    "3. Nie możesz użyć żadnego z tych symboli :'\",<>/?|\\()!@#$%^&*~-+\n",
    "4. Za najlepszą praktykę (PEP8) uważa się, że nazwy są pisane małymi literami.\n",
    "5. Unikaj używania znaków „l” (mała litera el), „O” (duża litera oh),\n",
    "    lub 'I' (oczko z wielkiej litery) jako jednoznakowe nazwy zmiennych.\n",
    "6. Unikaj używania słów, które mają specjalne znaczenie w Pythonie, takich jak „lista” i „str”\n",
    "Używanie nazw zmiennych może być bardzo użytecznym sposobem śledzenia różnych zmiennych w Pythonie.\n",
    "7. Używaj angielskich nazw zmiennych\n",
    "\n",
    "Na przykład:"
   ],
   "metadata": {}
  },
  {
   "cell_type": "code",
   "execution_count": 18,
   "source": [
    "# Używaj nazw obiektów, aby lepiej śledzić, co dzieje się w Twoim kodzie!\n",
    "my_income = 100\n",
    "\n",
    "tax_rate = 0.1\n",
    "\n",
    "my_taxes = my_income*tax_rate"
   ],
   "outputs": [],
   "metadata": {
    "jupyter": {
     "outputs_hidden": true
    }
   }
  },
  {
   "cell_type": "code",
   "execution_count": 19,
   "source": [
    "# Wyświetl!\n",
    "my_taxes"
   ],
   "outputs": [
    {
     "output_type": "execute_result",
     "data": {
      "text/plain": [
       "10.0"
      ]
     },
     "metadata": {},
     "execution_count": 19
    }
   ],
   "metadata": {}
  },
  {
   "cell_type": "markdown",
   "source": [
    "Więc czego się nauczyliśmy? Nauczyliśmy się podstaw liczb w Pythonie. Nauczyliśmy się także robić arytmetykę i używać Pythona jako podstawowego kalkulatora. Następnie zakończyliśmy to nauką o przypisywaniu zmiennych w Pythonie.\n",
    "\n",
    "W następnej kolejności dowiemy się o Strings!"
   ],
   "metadata": {}
  }
 ],
 "metadata": {
  "anaconda-cloud": {},
  "kernelspec": {
   "name": "python3",
   "display_name": "Python 3.8.8 64-bit ('base': conda)"
  },
  "language_info": {
   "codemirror_mode": {
    "name": "ipython",
    "version": 3
   },
   "file_extension": ".py",
   "mimetype": "text/x-python",
   "name": "python",
   "nbconvert_exporter": "python",
   "pygments_lexer": "ipython3",
   "version": "3.8.8"
  },
  "interpreter": {
   "hash": "8fac594bfae6525c0c41b4041d2d72effa188cc8ead05f81b1fab2bb098927fb"
  }
 },
 "nbformat": 4,
 "nbformat_minor": 4
}