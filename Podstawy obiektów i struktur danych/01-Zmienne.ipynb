{
 "cells": [
  {
   "cell_type": "markdown",
   "source": [
    "\r\n",
    "\r\n",
    "<center><a href='https://bluesoft.com'><img width=\"150\" src='../bluesoft.png'/></a></center>"
   ],
   "metadata": {}
  },
  {
   "cell_type": "markdown",
   "source": [
    "# Tworzenie zmiennych\r\n",
    "\r\n",
    "## Reguły dla nazw zmiennych\r\n",
    "* nazwy nie mogą zaczynać się od cyfr\r\n",
    "* nazwy nie mogą zawierać spacji, zamiast spacji użyj _ \r\n",
    "* nazwy nie mogą zawierać żadnego z tych symboli:\r\n",
    "\r\n",
    "       :'\",<>/?|\\!@#%^&*~-+\r\n",
    "       \r\n",
    "* za najlepszą praktykę uważa się ([PEP8](https://www.python.org/dev/pep/pep-0008/#function-and-variable-names)) gdy nazwy są pisane małymi literami z podkreśleniem\r\n",
    "* unikaj używania wbudowanych słów kluczowych Pythona, takich jak `list` i `str`\r\n",
    "* unikaj używania pojedynczych znaków `l` (mała litera el), `O` (wielka litera oh) i `I` (wielka litera oka), ponieważ można je pomylić z `1` i `0`"
   ],
   "metadata": {}
  },
  {
   "cell_type": "markdown",
   "source": [
    "## Dynamiczne określanie typu (Dynamic Typing)\r\n",
    "\r\n",
    "Python używa *dynamicznego typowania*, co oznacza, że możesz ponownie przypisać zmienne do różnych typów danych. To sprawia, że Python jest bardzo elastyczny w przypisywaniu typów danych; różni się od innych języków gdzie nie można zmienić typu zmiennej a jedynie jej wartość  ang. *statically typed*."
   ],
   "metadata": {}
  },
  {
   "cell_type": "markdown",
   "source": [],
   "metadata": {
    "jupyter": {
     "outputs_hidden": true
    },
    "tags": []
   }
  },
  {
   "cell_type": "code",
   "execution_count": 42,
   "source": [
    "my_dogs=2\r\n",
    "type(my_dogs)"
   ],
   "outputs": [
    {
     "output_type": "execute_result",
     "data": {
      "text/plain": [
       "int"
      ]
     },
     "metadata": {},
     "execution_count": 42
    }
   ],
   "metadata": {}
  },
  {
   "cell_type": "code",
   "execution_count": 43,
   "source": [
    "my_dogs = ['Azor', 'Łajka']"
   ],
   "outputs": [],
   "metadata": {
    "tags": []
   }
  },
  {
   "cell_type": "code",
   "execution_count": 44,
   "source": [
    "my_dogs\r\n",
    "type(my_dogs)"
   ],
   "outputs": [
    {
     "output_type": "execute_result",
     "data": {
      "text/plain": [
       "list"
      ]
     },
     "metadata": {},
     "execution_count": 44
    }
   ],
   "metadata": {}
  },
  {
   "cell_type": "markdown",
   "source": [
    "### Plusy i minusy dynamicznego pisania\r\n",
    "#### Zalety dynamicznego pisania\r\n",
    "* bardzo łatwy w obsłudze\r\n",
    "* skraca czas programiście \r\n",
    "\r\n",
    "#### Wady dynamicznego pisania\r\n",
    "* może spowodować nieoczekiwane błędy!\r\n",
    "* musisz być świadomy `type()`"
   ],
   "metadata": {}
  },
  {
   "cell_type": "markdown",
   "source": [
    "## Przypisywanie zmiennych\r\n",
    "Przypisanie zmiennej następuje po `name = object`, gdzie pojedynczy znak równości `=` jest *operatorem przypisania*"
   ],
   "metadata": {}
  },
  {
   "cell_type": "code",
   "execution_count": 45,
   "source": [
    "a = 5"
   ],
   "outputs": [],
   "metadata": {
    "collapsed": true,
    "jupyter": {
     "outputs_hidden": true
    }
   }
  },
  {
   "cell_type": "code",
   "execution_count": 46,
   "source": [
    "a"
   ],
   "outputs": [
    {
     "output_type": "execute_result",
     "data": {
      "text/plain": [
       "5"
      ]
     },
     "metadata": {},
     "execution_count": 46
    }
   ],
   "metadata": {}
  },
  {
   "cell_type": "markdown",
   "source": [
    "Tutaj przypisaliśmy obiekt całkowity `5` do nazwy zmiennej `a`.<br>Przypiszmy `a` do czegoś innego:"
   ],
   "metadata": {}
  },
  {
   "cell_type": "code",
   "execution_count": 47,
   "source": [
    "a = 10"
   ],
   "outputs": [],
   "metadata": {
    "collapsed": true,
    "jupyter": {
     "outputs_hidden": true
    }
   }
  },
  {
   "cell_type": "code",
   "execution_count": 48,
   "source": [
    "a"
   ],
   "outputs": [
    {
     "output_type": "execute_result",
     "data": {
      "text/plain": [
       "10"
      ]
     },
     "metadata": {},
     "execution_count": 48
    }
   ],
   "metadata": {}
  },
  {
   "cell_type": "markdown",
   "source": [
    "Możesz teraz użyć „a” zamiast liczby „10”:"
   ],
   "metadata": {}
  },
  {
   "cell_type": "code",
   "execution_count": 49,
   "source": [
    "a + a"
   ],
   "outputs": [
    {
     "output_type": "execute_result",
     "data": {
      "text/plain": [
       "20"
      ]
     },
     "metadata": {},
     "execution_count": 49
    }
   ],
   "metadata": {}
  },
  {
   "cell_type": "markdown",
   "source": [
    "## Ponowne przypisywanie zmiennych\r\n",
    "Python umożliwia ponowne przypisanie zmiennych z odniesieniem do tego samego obiektu."
   ],
   "metadata": {}
  },
  {
   "cell_type": "code",
   "execution_count": 50,
   "source": [
    "a = a + 10"
   ],
   "outputs": [],
   "metadata": {
    "collapsed": true,
    "jupyter": {
     "outputs_hidden": true
    }
   }
  },
  {
   "cell_type": "code",
   "execution_count": 51,
   "source": [
    "a"
   ],
   "outputs": [
    {
     "output_type": "execute_result",
     "data": {
      "text/plain": [
       "20"
      ]
     },
     "metadata": {},
     "execution_count": 51
    }
   ],
   "metadata": {}
  },
  {
   "cell_type": "markdown",
   "source": [
    "Właściwie jest na to skrót. Python pozwala dodawać, odejmować, mnożyć i dzielić liczby z ponownym przypisaniem za pomocą `+=`, `-=`, `*=` i `/=`."
   ],
   "metadata": {}
  },
  {
   "cell_type": "code",
   "execution_count": 52,
   "source": [
    "a += 10"
   ],
   "outputs": [],
   "metadata": {
    "collapsed": true,
    "jupyter": {
     "outputs_hidden": true
    }
   }
  },
  {
   "cell_type": "code",
   "execution_count": 53,
   "source": [
    "a"
   ],
   "outputs": [
    {
     "output_type": "execute_result",
     "data": {
      "text/plain": [
       "30"
      ]
     },
     "metadata": {},
     "execution_count": 53
    }
   ],
   "metadata": {}
  },
  {
   "cell_type": "code",
   "execution_count": 54,
   "source": [
    "a *= 2"
   ],
   "outputs": [],
   "metadata": {
    "collapsed": true,
    "jupyter": {
     "outputs_hidden": true
    }
   }
  },
  {
   "cell_type": "code",
   "execution_count": 55,
   "source": [
    "a"
   ],
   "outputs": [
    {
     "output_type": "execute_result",
     "data": {
      "text/plain": [
       "60"
      ]
     },
     "metadata": {},
     "execution_count": 55
    }
   ],
   "metadata": {}
  },
  {
   "cell_type": "markdown",
   "source": [
    "## Określanie typu zmiennej za pomocą `type()`\r\n",
    "Możesz sprawdzić, jaki typ obiektu jest przypisany do zmiennej za pomocą wbudowanej w Pythona funkcji `type()`. Typowe typy danych obejmują:\r\n",
    "* **int** ( integer)\r\n",
    "* **float**\r\n",
    "* **str** ( string)\r\n",
    "* **list**\r\n",
    "* **tuple**\r\n",
    "* **dict** ( dictionary - słownik)\r\n",
    "* **set**\r\n",
    "* **bool** ( Boolean True/False)"
   ],
   "metadata": {}
  },
  {
   "cell_type": "code",
   "execution_count": 56,
   "source": [
    "type(a)"
   ],
   "outputs": [
    {
     "output_type": "execute_result",
     "data": {
      "text/plain": [
       "int"
      ]
     },
     "metadata": {},
     "execution_count": 56
    }
   ],
   "metadata": {}
  },
  {
   "cell_type": "code",
   "execution_count": 57,
   "source": [
    "a = (1,2)"
   ],
   "outputs": [],
   "metadata": {
    "collapsed": true,
    "jupyter": {
     "outputs_hidden": true
    }
   }
  },
  {
   "cell_type": "code",
   "execution_count": 58,
   "source": [
    "type(a)"
   ],
   "outputs": [
    {
     "output_type": "execute_result",
     "data": {
      "text/plain": [
       "tuple"
      ]
     },
     "metadata": {},
     "execution_count": 58
    }
   ],
   "metadata": {}
  },
  {
   "cell_type": "markdown",
   "source": [
    "## Simple Exercise\r\n",
    "This shows how variables make calculations more readable and easier to follow."
   ],
   "metadata": {}
  },
  {
   "cell_type": "code",
   "execution_count": 59,
   "source": [
    "my_income = 100\r\n",
    "tax_rate = 0.1\r\n",
    "my_taxes = my_income * tax_rate"
   ],
   "outputs": [],
   "metadata": {
    "collapsed": true,
    "jupyter": {
     "outputs_hidden": true
    }
   }
  },
  {
   "cell_type": "code",
   "execution_count": 60,
   "source": [
    "my_taxes"
   ],
   "outputs": [
    {
     "output_type": "execute_result",
     "data": {
      "text/plain": [
       "10.0"
      ]
     },
     "metadata": {},
     "execution_count": 60
    }
   ],
   "metadata": {}
  },
  {
   "cell_type": "markdown",
   "source": [
    "Świetnie! Teraz znasz podstawy przypisywania i ponownego przypisywania zmiennych w Pythonie.<br>Następnie nauczymy się o ciągach znaków!"
   ],
   "metadata": {}
  }
 ],
 "metadata": {
  "kernelspec": {
   "name": "python3",
   "display_name": "Python 3.8.8 64-bit ('base': conda)"
  },
  "language_info": {
   "codemirror_mode": {
    "name": "ipython",
    "version": 3
   },
   "file_extension": ".py",
   "mimetype": "text/x-python",
   "name": "python",
   "nbconvert_exporter": "python",
   "pygments_lexer": "ipython3",
   "version": "3.8.8"
  },
  "interpreter": {
   "hash": "8fac594bfae6525c0c41b4041d2d72effa188cc8ead05f81b1fab2bb098927fb"
  }
 },
 "nbformat": 4,
 "nbformat_minor": 4
}